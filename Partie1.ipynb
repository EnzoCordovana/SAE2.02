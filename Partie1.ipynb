{
 "cells": [
  {
   "cell_type": "markdown",
   "id": "72ccffab",
   "metadata": {},
   "source": [
    "# Partie 1 : PageRank - version itérative, premier exemple"
   ]
  },
  {
   "cell_type": "markdown",
   "id": "0897c5d7",
   "metadata": {},
   "source": [
    "1. Justifier pourquoi l’algorithme de la puissance itérée (vu en détails dans le TD de R2.09 dédié à la SAE) permet de calculer le score de chacune des pages."
   ]
  },
  {
   "cell_type": "markdown",
   "id": "4baa9cc5",
   "metadata": {},
   "source": [
    "    L'algoritme de la puissance itérée permet de calculer le score de chacune des pages car, on multiplie la matrice contenant les liens entre les différentes pages et un vecteur aléatoire si la matrice n'est pas stochastique ce qui permet de définir le score de chaque page initialement.\n",
    "    Puis on récupère le vecteur propre pour chaque itération puis on le multiplie sur la même matrice jusqu'à ce que le vecteur propre ne change pratiquement plus."
   ]
  },
  {
   "cell_type": "markdown",
   "id": "bbb0c7cc",
   "metadata": {},
   "source": [
    "2. Implémenter cet algorithme pour calculer le score de chacune des pages du graphe précédent. On vérifiera (numériquement) que le vecteur de score obtenu est bien approximativement solution de $r = Qr$."
   ]
  },
  {
   "cell_type": "markdown",
   "id": "c6995d6e",
   "metadata": {},
   "source": []
  },
  {
   "cell_type": "markdown",
   "id": "f6be7a46",
   "metadata": {},
   "source": [
    "3. Analyser la pertinence du résultat obtenu."
   ]
  },
  {
   "cell_type": "markdown",
   "id": "ceda335e",
   "metadata": {},
   "source": [
    "On peut voir ci-dessous les résultats obtenir.\n",
    "\n",
    "Page 1  : 0.1376    Classement:\n",
    "Page 2  : 0.0275    1er:        Page 6      : 0.1651\n",
    "Page 3  : 0.0367    2eme:       Page 1 & 10 : 0.1376\n",
    "Page 4  : 0.0459    dernier:    Page 2 & 11 : 0.0275   \n",
    "Page 5  : 0.0596\n",
    "Page 6  : 0.1651    On peut remarquer que les pages 2 & 11,\n",
    "Page 7  : 0.0550    sont les moins importantes ainsi que \n",
    "Page 8  : 0.1101    les pages 1 et 10 sont deuxièmes car\n",
    "Page 9  : 0.0550    elles récupèrent le score des pages qui \n",
    "Page 10 : 0.1376    pointent vers elles.\n",
    "Page 11 : 0.0275    Ainsi la page 6, arrive bien première \n",
    "Page 12 : 0.0367    car elle se fait pointer par plusieurs \n",
    "Page 13 : 0.0459    pages où celles-ci se font pointer par\n",
    "Page 14 : 0.0596    d'autres pages feuille.\n",
    "\n",
    "Classement:\n",
    "1er:        Page 6      : 0.1651\n",
    "2eme:       Page 1 & 10 : 0.1376\n",
    "dernier:    Page 2 & 11 : 0.0275\n",
    "\n",
    "On peut remarquer que les pages 2 & 11, sont les moins importantes ainsi que les pages 1 et 10 sont deuxièmes car elles récupèrent le score des pages qui pointent vers elles.\n",
    "Ainsi la page 6, arrive bien première car elle se fait pointer par plusieurs pages où celles-ci se font pointer par\n",
    "d'autres pages feuille.\n",
    "\n",
    "On peut arriver à un arbre où les feuilles ont le plus bas score et la racine le meilleur score."
   ]
  }
 ],
 "metadata": {
  "language_info": {
   "name": "python"
  }
 },
 "nbformat": 4,
 "nbformat_minor": 5
}
