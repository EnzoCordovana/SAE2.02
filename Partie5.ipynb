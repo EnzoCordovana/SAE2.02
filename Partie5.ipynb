{
 "cells": [
  {
   "cell_type": "markdown",
   "id": "4cdeeca6",
   "metadata": {},
   "source": [
    "# Partie 5 : PageRank - calcul direct des scores et comparaisons d'algorithmes"
   ]
  },
  {
   "cell_type": "markdown",
   "id": "fed2409c",
   "metadata": {},
   "source": [
    "1. On rappelle que le vecteur de score est solution du système $r = Pr$. En déduire un algorithme de calcul direct (c’est-à-dire de calcul exact et sans approximations successives) du score $r$. Écrire le pseudo-code correspondant à cet algorithme."
   ]
  },
  {
   "cell_type": "markdown",
   "id": "aad5ce5b",
   "metadata": {},
   "source": [
    "Algorithme initial :\n",
    "$$\n",
    "\\begin{array}{l}\n",
    "\\textbf{Data} : X_0 \\in \\mathbb{R}^N \\text{ défini aléatoirement} \\\\\n",
    "\\textbf{tant que} \\ \\textit{la précision souhaitée n'est pas atteinte} \\ \\textbf{faire} \\\\\n",
    "\\begin{array}{|l} \\\\\n",
    "\\quad X_{n+1} = \\dfrac{A X_n}{\\|A X_n\\|} \\\\\n",
    "\\end{array} \\\\\n",
    "\\textbf{fin} \\\\\n",
    "\\textbf{Result} : \\|A X_n\\| \\text{ approximation de } \\lambda_1\n",
    "\\end{array}\n",
    "$$"
   ]
  },
  {
   "cell_type": "markdown",
   "id": "85cced00",
   "metadata": {},
   "source": [
    "Algorithme partie 1 :\n",
    "$$\n",
    "\\begin{array}{l}\n",
    "\\textbf{Data} : r_0 \\in \\mathbb{R}^n \\text{ défini aléatoirement} \\\\\n",
    "\\textbf{tant que} \\ \\textit{la précision souhaitée n’est pas atteinte} \\ \\textbf{faire} \\\\\n",
    "\\begin{array}{|l} \\\\\n",
    "\\quad r_{n+1} = C r_n \\\\\n",
    "\\end{array} \\\\\n",
    "\\textbf{fin} \\\\\n",
    "\\textbf{Result} : r_n \\text{ approximation d’un vecteur propre pour la valeur propre } 1\n",
    "\\end{array}\n",
    "$$"
   ]
  },
  {
   "cell_type": "markdown",
   "id": "6dc282a5",
   "metadata": {},
   "source": [
    "Algorithme partie 2 :\n",
    "$$\n",
    "\\begin{array}{l}\n",
    "\\textbf{Data} : r_0 \\in \\mathbb{R}^n \\text{ défini aléatoirement} \\\\\n",
    "\\textbf{tant que} \\ \\textit{la précision souhaitée n’est pas atteinte} \\ \\textbf{faire} \\\\\n",
    "\\begin{array}{|l} \\\\\n",
    "\\quad r_{n+1} = Q r_n \\\\\n",
    "\\end{array} \\\\\n",
    "\\textbf{fin} \\\\\n",
    "\\textbf{Result} : r_n \\text{ approximation d’un vecteur propre pour la valeur propre } 1\n",
    "\\end{array}\n",
    "$$"
   ]
  },
  {
   "cell_type": "markdown",
   "id": "c1b977d1",
   "metadata": {},
   "source": [
    "Algorithme partie 5 :\n"
   ]
  },
  {
   "cell_type": "markdown",
   "id": "13c50f67",
   "metadata": {},
   "source": [
    "2. Implémenter cet algorithme."
   ]
  },
  {
   "cell_type": "markdown",
   "id": "51a5f443",
   "metadata": {},
   "source": [
    "3. Comparer les résultats obtenus par les deux algorithmes."
   ]
  },
  {
   "cell_type": "markdown",
   "id": "f12e2c15",
   "metadata": {},
   "source": [
    "4. Comparer les performances des deux algorithmes. Si le temps d’exécution peut être un indicateur pertinent, ce n’est pas le seul."
   ]
  },
  {
   "cell_type": "code",
   "execution_count": null,
   "id": "c1e74ef5",
   "metadata": {
    "vscode": {
     "languageId": "plaintext"
    }
   },
   "outputs": [],
   "source": [
    "def matrice_transition_P(A, alpha):\n",
    "    n = A.shape[0]\n",
    "    for i in range(n):\n",
    "        colSom = np.sum(A[:, i])\n",
    "        if colSom == 0:\n",
    "            A[:, i] = 1.0 / n\n",
    "        else:\n",
    "            A[:, i] = alpha * A[:, i] + (1 - alpha) / n\n",
    "    return A"
   ]
  }
 ],
 "metadata": {
  "language_info": {
   "name": "python"
  }
 },
 "nbformat": 4,
 "nbformat_minor": 5
}
