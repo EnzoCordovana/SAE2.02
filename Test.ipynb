{
 "cells": [
  {
   "cell_type": "markdown",
   "id": "b747d37c",
   "metadata": {},
   "source": [
    "Petit test"
   ]
  },
  {
   "cell_type": "code",
   "execution_count": null,
   "id": "0bfb8d2f",
   "metadata": {},
   "outputs": [],
   "source": [
    "print('test')"
   ]
  }
 ],
 "metadata": {
  "jupytext": {
   "cell_metadata_filter": "-all",
   "main_language": "python",
   "notebook_metadata_filter": "-all"
  }
 },
 "nbformat": 4,
 "nbformat_minor": 5
}
